{
 "cells": [
  {
   "cell_type": "markdown",
   "source": [
    "## Install neo4j: https://neo4j.com/docs/operations-manual/current/installation/"
   ],
   "metadata": {
    "collapsed": false
   },
   "id": "b641836b52cf126f"
  },
  {
   "cell_type": "markdown",
   "source": [
    "## Import neo4j: pip install neo4j"
   ],
   "metadata": {
    "collapsed": false
   },
   "id": "57f809cd4c4b71c3"
  },
  {
   "cell_type": "markdown",
   "source": [
    "## Importing the 'neo4j' Module "
   ],
   "metadata": {
    "collapsed": false
   },
   "id": "0f52be81"
  },
  {
   "cell_type": "code",
   "execution_count": 1,
   "id": "8f52349d",
   "metadata": {
    "ExecuteTime": {
     "end_time": "2023-10-26T19:36:43.237163890Z",
     "start_time": "2023-10-26T19:36:43.183712635Z"
    }
   },
   "outputs": [
    {
     "data": {
      "text/plain": "True"
     },
     "execution_count": 1,
     "metadata": {},
     "output_type": "execute_result"
    }
   ],
   "source": [
    "from neo4j import GraphDatabase, RoutingControl\n",
    "from dotenv import load_dotenv\n",
    "import os\n",
    "import pathlib\n",
    "path_to_secrets = pathlib.Path('/media/rainergo/PROJECTS/UASFRA-MS-PROJDIGI/secrets.env')\n",
    "load_dotenv(dotenv_path=path_to_secrets)  # Load secrets/env variables"
   ]
  },
  {
   "cell_type": "markdown",
   "id": "6ac00739",
   "metadata": {},
   "source": [
    "## Connecting to the Database - Browser: localhost:7474"
   ]
  },
  {
   "cell_type": "code",
   "execution_count": 35,
   "id": "4eed2280",
   "metadata": {
    "ExecuteTime": {
     "end_time": "2023-10-26T19:25:12.439246118Z",
     "start_time": "2023-10-26T19:25:12.390734840Z"
    }
   },
   "outputs": [],
   "source": [
    "URI = \"neo4j://localhost:7687\"\n",
    "AUTH = (\"neo4j\", os.getenv('NEO4J_PW'))\n",
    "driver = GraphDatabase.driver(URI, auth=AUTH)"
   ]
  },
  {
   "cell_type": "markdown",
   "id": "b0e2f8bd",
   "metadata": {},
   "source": [
    "## Creating functions to add Node \"CEO\" and Relation \"FRIEND\" to the Database"
   ]
  },
  {
   "cell_type": "code",
   "execution_count": 36,
   "id": "cc418e3e",
   "metadata": {
    "ExecuteTime": {
     "end_time": "2023-10-26T19:25:12.439443049Z",
     "start_time": "2023-10-26T19:25:12.439129103Z"
    }
   },
   "outputs": [],
   "source": [
    "def add_node(first_name, last_name, age, gender, location, company):\n",
    "    driver.execute_query(\n",
    "        \"CREATE (n:CEO {first_name: $first_name, last_name: $last_name, age: $age, gender: $gender, location: $location, company: $company}) \"\n",
    "        \"RETURN n \",\n",
    "        first_name=first_name, last_name=last_name, age=age, gender=gender, location=location, company=company, database_=\"neo4j\",\n",
    "    )\n",
    "    \n",
    "def add_relation(last_name_1: str, last_name_2: str):\n",
    "    driver.execute_query(\n",
    "        \"MATCH (p1:CEO), (p2:CEO) \"\n",
    "        \"WHERE (p1.last_name = $last_name_1) AND (p2.last_name =  $last_name_2)\"\n",
    "        \"CREATE (p1)-[p:FRIEND]->(p2)\",\n",
    "        last_name_1=last_name_1, last_name_2=last_name_2, database_=\"neo4j\",\n",
    "    )"
   ]
  },
  {
   "cell_type": "markdown",
   "id": "be7ffe5c",
   "metadata": {},
   "source": [
    "## Calling the 'add_node( )' Function "
   ]
  },
  {
   "cell_type": "code",
   "execution_count": 37,
   "id": "6169fd9b",
   "metadata": {
    "ExecuteTime": {
     "end_time": "2023-10-26T19:25:12.439747259Z",
     "start_time": "2023-10-26T19:25:12.439373118Z"
    }
   },
   "outputs": [],
   "source": [
    "first_name = \"Bill\"\n",
    "last_name = \"Gates\"\n",
    "age = \"67\"\n",
    "gender = \"Male\"\n",
    "location = \"United States\"\n",
    "company = \"Microsoft\"\n",
    "\n",
    "add_node(first_name, last_name, age, gender, location, company)"
   ]
  },
  {
   "cell_type": "code",
   "execution_count": 38,
   "outputs": [],
   "source": [
    "first_name = \"Elon\"\n",
    "last_name = \"Musk\"\n",
    "age = \"52\"\n",
    "gender = \"Male\"\n",
    "location = \"United States\"\n",
    "company = \"Tesla\"\n",
    "\n",
    "add_node(first_name, last_name, age, gender, location, company)"
   ],
   "metadata": {
    "collapsed": false,
    "ExecuteTime": {
     "end_time": "2023-10-26T19:25:12.439952921Z",
     "start_time": "2023-10-26T19:25:12.439533761Z"
    }
   },
   "id": "dbc3a8ba5c4c6c75"
  },
  {
   "cell_type": "markdown",
   "source": [
    "## Calling the 'add_relation( )' Function"
   ],
   "metadata": {
    "collapsed": false
   },
   "id": "c042fbae1ee14f51"
  },
  {
   "cell_type": "code",
   "execution_count": 39,
   "outputs": [],
   "source": [
    "add_relation(last_name_1=\"Gates\", last_name_2=\"Musk\")"
   ],
   "metadata": {
    "collapsed": false,
    "ExecuteTime": {
     "end_time": "2023-10-26T19:25:12.440135384Z",
     "start_time": "2023-10-26T19:25:12.439602371Z"
    }
   },
   "id": "67209fbf5ab4f956"
  },
  {
   "cell_type": "markdown",
   "source": [
    "## Then check browser: localhost:7474 for visualization"
   ],
   "metadata": {
    "collapsed": false
   },
   "id": "f4937d2e473b00d3"
  }
 ],
 "metadata": {
  "kernelspec": {
   "display_name": "Python 3 (ipykernel)",
   "language": "python",
   "name": "python3"
  },
  "language_info": {
   "codemirror_mode": {
    "name": "ipython",
    "version": 3
   },
   "file_extension": ".py",
   "mimetype": "text/x-python",
   "name": "python",
   "nbconvert_exporter": "python",
   "pygments_lexer": "ipython3",
   "version": "3.10.11"
  }
 },
 "nbformat": 4,
 "nbformat_minor": 5
}
