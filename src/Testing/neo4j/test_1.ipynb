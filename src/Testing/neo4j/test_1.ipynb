{
 "cells": [
  {
   "cell_type": "code",
   "execution_count": 1,
   "metadata": {
    "collapsed": true
   },
   "outputs": [],
   "source": [
    "import json\n",
    "import pandas as pd"
   ]
  },
  {
   "cell_type": "code",
   "execution_count": 2,
   "outputs": [
    {
     "data": {
      "text/plain": "     id Station               type                   ts  \\\n0  1144     BYI  Maintenance Works  2021-08-06 18:28:21   \n1  4958     BME  Maintenance Works  2022-04-24 12:23:06   \n2  4152     KGT  Maintenance Works  2022-02-22 00:09:18   \n3  7233     LPG  Maintenance Works  2021-08-30 11:24:00   \n4  5223     PHG  Maintenance Works  2021-09-30 05:49:01   \n5  5392     ATB  Maintenance Works  2022-01-27 18:05:08   \n6  3047     HNK  Maintenance Works  2022-03-04 06:43:36   \n7  4127     SMD  Maintenance Works  2021-12-14 04:53:33   \n8  7765     THU  Maintenance Works  2021-12-10 14:16:22   \n9  8344     BOP  Maintenance Works  2022-01-24 00:10:13   \n\n                                                desc  \n0  Nunc nisl. Duis bibendum, felis sed interdum v...  \n1  Donec ut dolor. Morbi vel lectus in quam fring...  \n2  Nunc rhoncus dui vel sem. Sed sagittis. Nam co...  \n3  Proin eu mi. Nulla ac enim. In tempor, turpis ...  \n4  In hac habitasse platea dictumst. Maecenas ut ...  \n5  Quisque erat eros, viverra eget, congue eget, ...  \n6  Donec ut mauris eget massa tempor convallis. N...  \n7  Lorem ipsum dolor sit amet, consectetuer adipi...  \n8  Nullam molestie nibh in lectus. Pellentesque a...  \n9  In hac habitasse platea dictumst. Etiam faucib...  ",
      "text/html": "<div>\n<style scoped>\n    .dataframe tbody tr th:only-of-type {\n        vertical-align: middle;\n    }\n\n    .dataframe tbody tr th {\n        vertical-align: top;\n    }\n\n    .dataframe thead th {\n        text-align: right;\n    }\n</style>\n<table border=\"1\" class=\"dataframe\">\n  <thead>\n    <tr style=\"text-align: right;\">\n      <th></th>\n      <th>id</th>\n      <th>Station</th>\n      <th>type</th>\n      <th>ts</th>\n      <th>desc</th>\n    </tr>\n  </thead>\n  <tbody>\n    <tr>\n      <th>0</th>\n      <td>1144</td>\n      <td>BYI</td>\n      <td>Maintenance Works</td>\n      <td>2021-08-06 18:28:21</td>\n      <td>Nunc nisl. Duis bibendum, felis sed interdum v...</td>\n    </tr>\n    <tr>\n      <th>1</th>\n      <td>4958</td>\n      <td>BME</td>\n      <td>Maintenance Works</td>\n      <td>2022-04-24 12:23:06</td>\n      <td>Donec ut dolor. Morbi vel lectus in quam fring...</td>\n    </tr>\n    <tr>\n      <th>2</th>\n      <td>4152</td>\n      <td>KGT</td>\n      <td>Maintenance Works</td>\n      <td>2022-02-22 00:09:18</td>\n      <td>Nunc rhoncus dui vel sem. Sed sagittis. Nam co...</td>\n    </tr>\n    <tr>\n      <th>3</th>\n      <td>7233</td>\n      <td>LPG</td>\n      <td>Maintenance Works</td>\n      <td>2021-08-30 11:24:00</td>\n      <td>Proin eu mi. Nulla ac enim. In tempor, turpis ...</td>\n    </tr>\n    <tr>\n      <th>4</th>\n      <td>5223</td>\n      <td>PHG</td>\n      <td>Maintenance Works</td>\n      <td>2021-09-30 05:49:01</td>\n      <td>In hac habitasse platea dictumst. Maecenas ut ...</td>\n    </tr>\n    <tr>\n      <th>5</th>\n      <td>5392</td>\n      <td>ATB</td>\n      <td>Maintenance Works</td>\n      <td>2022-01-27 18:05:08</td>\n      <td>Quisque erat eros, viverra eget, congue eget, ...</td>\n    </tr>\n    <tr>\n      <th>6</th>\n      <td>3047</td>\n      <td>HNK</td>\n      <td>Maintenance Works</td>\n      <td>2022-03-04 06:43:36</td>\n      <td>Donec ut mauris eget massa tempor convallis. N...</td>\n    </tr>\n    <tr>\n      <th>7</th>\n      <td>4127</td>\n      <td>SMD</td>\n      <td>Maintenance Works</td>\n      <td>2021-12-14 04:53:33</td>\n      <td>Lorem ipsum dolor sit amet, consectetuer adipi...</td>\n    </tr>\n    <tr>\n      <th>8</th>\n      <td>7765</td>\n      <td>THU</td>\n      <td>Maintenance Works</td>\n      <td>2021-12-10 14:16:22</td>\n      <td>Nullam molestie nibh in lectus. Pellentesque a...</td>\n    </tr>\n    <tr>\n      <th>9</th>\n      <td>8344</td>\n      <td>BOP</td>\n      <td>Maintenance Works</td>\n      <td>2022-01-24 00:10:13</td>\n      <td>In hac habitasse platea dictumst. Etiam faucib...</td>\n    </tr>\n  </tbody>\n</table>\n</div>"
     },
     "execution_count": 2,
     "metadata": {},
     "output_type": "execute_result"
    }
   ],
   "source": [
    "df = pd.read_csv(\"https://raw.githubusercontent.com/jbarrasa/goingmeta/main/session5/data/nr-events.csv\")\n",
    "df.head(n=10)"
   ],
   "metadata": {
    "collapsed": false
   }
  },
  {
   "cell_type": "code",
   "execution_count": 18,
   "outputs": [],
   "source": [
    "d = df.head(n=3).to_dict('records')"
   ],
   "metadata": {
    "collapsed": false
   }
  },
  {
   "cell_type": "code",
   "execution_count": 19,
   "outputs": [
    {
     "data": {
      "text/plain": "[{'id': 1144,\n  'Station': 'BYI',\n  'type': 'Maintenance Works',\n  'ts': '2021-08-06 18:28:21',\n  'desc': 'Nunc nisl. Duis bibendum, felis sed interdum venenatis, turpis enim blandit mi, in porttitor pede justo eu massa. Donec dapibus. Duis at velit eu est congue elementum. In hac habitasse platea dictumst. Morbi vestibulum, velit id pretium iaculis, diam erat fermentum justo, nec condimentum neque sapien placerat ante. Nulla justo. Aliquam quis turpis eget elit sodales scelerisque. Mauris sit amet eros. Suspendisse accumsan tortor quis turpis.'},\n {'id': 4958,\n  'Station': 'BME',\n  'type': 'Maintenance Works',\n  'ts': '2022-04-24 12:23:06',\n  'desc': 'Donec ut dolor. Morbi vel lectus in quam fringilla rhoncus. Mauris enim leo, rhoncus sed, vestibulum sit amet, cursus id, turpis. Integer aliquet, massa id lobortis convallis, tortor risus dapibus augue, vel accumsan tellus nisi eu orci. Mauris lacinia sapien quis libero. Nullam sit amet turpis elementum ligula vehicula consequat.'},\n {'id': 4152,\n  'Station': 'KGT',\n  'type': 'Maintenance Works',\n  'ts': '2022-02-22 00:09:18',\n  'desc': 'Nunc rhoncus dui vel sem. Sed sagittis. Nam congue, risus semper porta volutpat, quam pede lobortis ligula, sit amet eleifend pede libero quis orci. Nullam molestie nibh in lectus.'}]"
     },
     "execution_count": 19,
     "metadata": {},
     "output_type": "execute_result"
    }
   ],
   "source": [
    "d"
   ],
   "metadata": {
    "collapsed": false
   }
  },
  {
   "cell_type": "code",
   "execution_count": 3,
   "outputs": [
    {
     "ename": "SyntaxError",
     "evalue": "unmatched ')' (3777180495.py, line 1)",
     "output_type": "error",
     "traceback": [
      "\u001B[1;36m  Cell \u001B[1;32mIn[3], line 1\u001B[1;36m\u001B[0m\n\u001B[1;33m    d = parameters = {'records': frame[batch*batch_size:(batch+1)*batch_size].to_dict('records')}).data())\u001B[0m\n\u001B[1;37m                                                                                                 ^\u001B[0m\n\u001B[1;31mSyntaxError\u001B[0m\u001B[1;31m:\u001B[0m unmatched ')'\n"
     ]
    }
   ],
   "source": [
    "{'id': 4958, 'Station': }"
   ],
   "metadata": {
    "collapsed": false
   }
  }
 ],
 "metadata": {
  "kernelspec": {
   "display_name": "Python 3",
   "language": "python",
   "name": "python3"
  },
  "language_info": {
   "codemirror_mode": {
    "name": "ipython",
    "version": 2
   },
   "file_extension": ".py",
   "mimetype": "text/x-python",
   "name": "python",
   "nbconvert_exporter": "python",
   "pygments_lexer": "ipython2",
   "version": "2.7.6"
  }
 },
 "nbformat": 4,
 "nbformat_minor": 0
}
