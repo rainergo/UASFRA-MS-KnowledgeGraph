{
 "cells": [
  {
   "cell_type": "markdown",
   "source": [
    "### Barras Book Example: Load British Railway Network from csv-file"
   ],
   "metadata": {
    "collapsed": false
   },
   "id": "d29a803c798a61ab"
  },
  {
   "cell_type": "code",
   "execution_count": 1,
   "outputs": [
    {
     "data": {
      "text/plain": "True"
     },
     "execution_count": 1,
     "metadata": {},
     "output_type": "execute_result"
    }
   ],
   "source": [
    "import os\n",
    "from dotenv import load_dotenv\n",
    "import pathlib\n",
    "from graphdatascience import GraphDataScience\n",
    "\n",
    "from settings import path_base, path_data\n",
    "path_to_secrets = pathlib.Path(path_base, 'secrets.env')\n",
    "load_dotenv(dotenv_path=path_to_secrets)  # Load secrets/env variables\n"
   ],
   "metadata": {
    "collapsed": false,
    "ExecuteTime": {
     "end_time": "2023-11-11T18:24:52.257715500Z",
     "start_time": "2023-11-11T18:24:50.795480400Z"
    }
   },
   "id": "initial_id"
  },
  {
   "cell_type": "markdown",
   "source": [
    "##### Connect to the database:"
   ],
   "metadata": {
    "collapsed": false
   },
   "id": "6847511cf42dfffc"
  },
  {
   "cell_type": "code",
   "execution_count": 2,
   "outputs": [],
   "source": [
    "URI = \"neo4j://localhost:7687\"\n",
    "AUTH = (\"neo4j\", os.getenv('NEO4J_PW'))\n",
    "gds = GraphDataScience(URI, auth=AUTH, database=\"neo4j\")"
   ],
   "metadata": {
    "collapsed": false,
    "ExecuteTime": {
     "end_time": "2023-11-11T18:24:58.479053200Z",
     "start_time": "2023-11-11T18:24:52.257715500Z"
    }
   },
   "id": "3b4871c1ce04ed7f"
  },
  {
   "cell_type": "markdown",
   "source": [
    "##### Load stations as nodes"
   ],
   "metadata": {
    "collapsed": false
   },
   "id": "4ba0b58f126bc321"
  },
  {
   "cell_type": "code",
   "execution_count": 4,
   "outputs": [
    {
     "data": {
      "text/plain": "Empty DataFrame\nColumns: []\nIndex: []",
      "text/html": "<div>\n<style scoped>\n    .dataframe tbody tr th:only-of-type {\n        vertical-align: middle;\n    }\n\n    .dataframe tbody tr th {\n        vertical-align: top;\n    }\n\n    .dataframe thead th {\n        text-align: right;\n    }\n</style>\n<table border=\"1\" class=\"dataframe\">\n  <thead>\n    <tr style=\"text-align: right;\">\n      <th></th>\n    </tr>\n  </thead>\n  <tbody>\n  </tbody>\n</table>\n</div>"
     },
     "execution_count": 4,
     "metadata": {},
     "output_type": "execute_result"
    }
   ],
   "source": [
    "# csv-files must be in \"<neo4j>/import\"-folder\n",
    "\n",
    "query = \"\"\"\n",
    "    LOAD CSV WITH HEADERS FROM \"file:///C:/Users/rainer/PycharmProjects/UASFRA-MS-PROJDIGI/data/sample_data/nr-stations-all.csv\" AS station\n",
    "    CREATE (:Station {name: station.name, crs: station.crs})\n",
    "    \"\"\"   \n",
    "gds.run_cypher(\n",
    "    query=query\n",
    ")"
   ],
   "metadata": {
    "collapsed": false,
    "ExecuteTime": {
     "end_time": "2023-11-11T18:25:50.180253800Z",
     "start_time": "2023-11-11T18:25:47.424901900Z"
    }
   },
   "id": "13d72f9041a9e4f9"
  },
  {
   "cell_type": "markdown",
   "source": [
    "##### Load tracks between stations as relationships"
   ],
   "metadata": {
    "collapsed": false
   },
   "id": "30eacc3277b665e4"
  },
  {
   "cell_type": "code",
   "execution_count": 7,
   "outputs": [
    {
     "data": {
      "text/plain": "Empty DataFrame\nColumns: []\nIndex: []",
      "text/html": "<div>\n<style scoped>\n    .dataframe tbody tr th:only-of-type {\n        vertical-align: middle;\n    }\n\n    .dataframe tbody tr th {\n        vertical-align: top;\n    }\n\n    .dataframe thead th {\n        text-align: right;\n    }\n</style>\n<table border=\"1\" class=\"dataframe\">\n  <thead>\n    <tr style=\"text-align: right;\">\n      <th></th>\n    </tr>\n  </thead>\n  <tbody>\n  </tbody>\n</table>\n</div>"
     },
     "execution_count": 7,
     "metadata": {},
     "output_type": "execute_result"
    }
   ],
   "source": [
    "# csv-files must be in \"<neo4j>/import\"-folder\n",
    "query = \"\"\"\n",
    "    LOAD CSV WITH HEADERS FROM \"file:///C:/Users/rainer/PycharmProjects/UASFRA-MS-PROJDIGI/data/sample_data/nr-station-links.csv\" AS track\n",
    "    MATCH (from:Station {crs: track.from})\n",
    "    MATCH (to:Station {crs: track.to})\n",
    "    MERGE (from)-[:TRACK {distance: round( toFloat(track.distance),2)}]->(to)\n",
    "    \"\"\"   \n",
    "gds.run_cypher(\n",
    "    query=query\n",
    ")"
   ],
   "metadata": {
    "collapsed": false,
    "ExecuteTime": {
     "end_time": "2023-11-11T18:28:09.344954700Z",
     "start_time": "2023-11-11T18:26:45.581108Z"
    }
   },
   "id": "8e36584f8fb4b71a"
  },
  {
   "cell_type": "code",
   "execution_count": null,
   "outputs": [],
   "source": [
    "gds.close()"
   ],
   "metadata": {
    "collapsed": false,
    "ExecuteTime": {
     "end_time": "2023-11-11T18:25:01.757504200Z",
     "start_time": "2023-11-11T18:25:01.757504200Z"
    }
   },
   "id": "fd99a94336822b16"
  }
 ],
 "metadata": {
  "kernelspec": {
   "display_name": "Python 3",
   "language": "python",
   "name": "python3"
  },
  "language_info": {
   "codemirror_mode": {
    "name": "ipython",
    "version": 2
   },
   "file_extension": ".py",
   "mimetype": "text/x-python",
   "name": "python",
   "nbconvert_exporter": "python",
   "pygments_lexer": "ipython2",
   "version": "2.7.6"
  }
 },
 "nbformat": 4,
 "nbformat_minor": 5
}
