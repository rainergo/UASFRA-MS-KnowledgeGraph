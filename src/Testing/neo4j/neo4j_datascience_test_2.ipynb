{
 "cells": [
  {
   "cell_type": "markdown",
   "source": [
    "### Barras Book Example: Use British Railway Network to do projections"
   ],
   "metadata": {
    "collapsed": false
   },
   "id": "d29a803c798a61ab"
  },
  {
   "cell_type": "code",
   "execution_count": 7,
   "outputs": [
    {
     "data": {
      "text/plain": "True"
     },
     "execution_count": 7,
     "metadata": {},
     "output_type": "execute_result"
    }
   ],
   "source": [
    "import os\n",
    "from dotenv import load_dotenv\n",
    "import pathlib\n",
    "from graphdatascience import GraphDataScience\n",
    "\n",
    "from settings import path_base, path_data\n",
    "path_to_secrets = pathlib.Path(path_base, 'secrets.env')\n",
    "load_dotenv(dotenv_path=path_to_secrets)  # Load secrets/env variables\n"
   ],
   "metadata": {
    "collapsed": false,
    "ExecuteTime": {
     "end_time": "2023-11-11T16:15:41.343379600Z",
     "start_time": "2023-11-11T16:15:41.282003800Z"
    }
   },
   "id": "initial_id"
  },
  {
   "cell_type": "markdown",
   "source": [
    "##### Connect to the database:"
   ],
   "metadata": {
    "collapsed": false
   },
   "id": "6847511cf42dfffc"
  },
  {
   "cell_type": "code",
   "execution_count": 8,
   "outputs": [],
   "source": [
    "URI = \"neo4j://localhost:7687\"\n",
    "AUTH = (\"neo4j\", os.getenv('NEO4J_PW'))\n",
    "gds = GraphDataScience(URI, auth=AUTH, database=\"neo4j\")"
   ],
   "metadata": {
    "collapsed": false,
    "ExecuteTime": {
     "end_time": "2023-11-11T16:15:47.838968900Z",
     "start_time": "2023-11-11T16:15:41.297455100Z"
    }
   },
   "id": "3b4871c1ce04ed7f"
  },
  {
   "cell_type": "code",
   "execution_count": 18,
   "outputs": [],
   "source": [
    "graphs = ['trains', 'trains_new', 'trains_n']\n",
    "call = f\"\"\"\n",
    "UNWIND {graphs} AS graph\n",
    "CALL gds.graph.exists(graph)\n",
    "YIELD graphName, exists\n",
    "RETURN graphName, exists\n",
    "\"\"\"\n",
    "\n",
    "gds.run_cypher(\n",
    "    query=call\n",
    ")\n",
    "\n",
    "for graph in graphs:\n",
    "    try:\n",
    "        gds.run_cypher(\n",
    "        query=f\"\"\"\n",
    "        CALL gds.graph.drop(\"{graph}\") \n",
    "        YIELD graphName\"\"\"\n",
    "        )\n",
    "    except:\n",
    "        pass"
   ],
   "metadata": {
    "collapsed": false,
    "ExecuteTime": {
     "end_time": "2023-11-11T16:28:07.610760400Z",
     "start_time": "2023-11-11T16:27:59.241893700Z"
    }
   },
   "id": "defa44917f0b47ae"
  },
  {
   "cell_type": "markdown",
   "source": [
    "##### Calculate shortest path"
   ],
   "metadata": {
    "collapsed": false
   },
   "id": "4ba0b58f126bc321"
  },
  {
   "cell_type": "code",
   "execution_count": 19,
   "outputs": [
    {
     "data": {
      "text/plain": "GraphCreateResult(graph=Graph({'graphName': 'trains', 'nodeCount': 2593, 'relationshipCount': 5782, 'database': 'neo4j', 'configuration': {'readConcurrency': 4, 'jobId': 'beb883b7-bca0-4eed-90e7-9ee1256d2885', 'logProgress': True, 'relationshipQuery': 'MATCH (s1:Station)-[t:TRACK]->(s2:Station)\\n    RETURN id(s1) AS source, id(s2) AS target, t.distance AS distance', 'nodeQuery': 'MATCH (s:Station) RETURN id(s) AS id', 'creationTime': neo4j.time.DateTime(2023, 11, 11, 17, 28, 19, 244002500, tzinfo=<DstTzInfo 'Europe/Berlin' CET+1:00:00 STD>), 'validateRelationships': True, 'parameters': [], 'sudo': True}, 'schema': {'graphProperties': {}, 'nodes': {'__ALL__': {}}, 'relationships': {'__ALL__': {'distance': 'Float (DefaultValue(NaN), TRANSIENT, Aggregation.NONE)'}}}, 'memoryUsage': '7024 KiB'}), result=nodeQuery                         MATCH (s:Station) RETURN id(s) AS id\nrelationshipQuery    MATCH (s1:Station)-[t:TRACK]->(s2:Station)\\n  ...\ngraphName                                                       trains\nnodeCount                                                         2593\nrelationshipCount                                                 5782\nprojectMillis                                                      288\nName: 0, dtype: object)"
     },
     "execution_count": 19,
     "metadata": {},
     "output_type": "execute_result"
    }
   ],
   "source": [
    "gds.graph.project.cypher(\n",
    "    graph_name=\"trains\",\n",
    "    node_spec='MATCH (s:Station) RETURN id(s) AS id',\n",
    "    relationship_spec=\n",
    "    \"\"\"\n",
    "    MATCH (s1:Station)-[t:TRACK]->(s2:Station)\n",
    "    RETURN id(s1) AS source, id(s2) AS target, t.distance AS distance\n",
    "    \"\"\"   \n",
    ")"
   ],
   "metadata": {
    "collapsed": false,
    "ExecuteTime": {
     "end_time": "2023-11-11T16:28:22.014730700Z",
     "start_time": "2023-11-11T16:28:15.127683900Z"
    }
   },
   "id": "13d72f9041a9e4f9"
  },
  {
   "cell_type": "markdown",
   "source": [
    "##### Shortest path between Birmingham New Street and Edinburgh"
   ],
   "metadata": {
    "collapsed": false
   },
   "id": "33da372dc32d7e39"
  },
  {
   "cell_type": "code",
   "execution_count": 20,
   "outputs": [],
   "source": [
    "birmingham = gds.find_node_id([\"Station\"], {\"name\": \"Birmingham New Street\"})\n",
    "edinburgh = gds.find_node_id([\"Station\"], {\"name\": \"Edinburgh\"})"
   ],
   "metadata": {
    "collapsed": false,
    "ExecuteTime": {
     "end_time": "2023-11-11T16:28:31.749764400Z",
     "start_time": "2023-11-11T16:28:27.597701900Z"
    }
   },
   "id": "a8c35b2098f96bfd"
  },
  {
   "cell_type": "code",
   "execution_count": 21,
   "outputs": [
    {
     "data": {
      "text/plain": "Dijkstra:   0%|          | 0/100 [00:00<?, ?%/s]",
      "application/vnd.jupyter.widget-view+json": {
       "version_major": 2,
       "version_minor": 0,
       "model_id": "3ea1a848eff74447ba3c3b07f91da8a4"
      }
     },
     "metadata": {},
     "output_type": "display_data"
    },
    {
     "name": "stdout",
     "output_type": "stream",
     "text": [
      "Shortest distance: 295.91\n"
     ]
    }
   ],
   "source": [
    "shortest_path = gds.shortestPath.dijkstra.stream(\n",
    "    gds.graph.get(\"trains\"),\n",
    "    sourceNode = birmingham,\n",
    "    targetNode = edinburgh,\n",
    "    relationshipWeightProperty=\"distance\"\n",
    ")\n",
    "print(f\"Shortest distance: {shortest_path.get('costs').get(0)[-1]}\")\n",
    "gds.close()"
   ],
   "metadata": {
    "collapsed": false,
    "ExecuteTime": {
     "end_time": "2023-11-11T16:28:41.078165200Z",
     "start_time": "2023-11-11T16:28:34.012866700Z"
    }
   },
   "id": "738e0db86309caaa"
  },
  {
   "cell_type": "markdown",
   "source": [],
   "metadata": {
    "collapsed": false
   },
   "id": "cebe9d8ba2ba2072"
  },
  {
   "cell_type": "markdown",
   "source": [],
   "metadata": {
    "collapsed": false
   },
   "id": "f3f58f9f36022e58"
  }
 ],
 "metadata": {
  "kernelspec": {
   "display_name": "Python 3",
   "language": "python",
   "name": "python3"
  },
  "language_info": {
   "codemirror_mode": {
    "name": "ipython",
    "version": 2
   },
   "file_extension": ".py",
   "mimetype": "text/x-python",
   "name": "python",
   "nbconvert_exporter": "python",
   "pygments_lexer": "ipython2",
   "version": "2.7.6"
  }
 },
 "nbformat": 4,
 "nbformat_minor": 5
}
