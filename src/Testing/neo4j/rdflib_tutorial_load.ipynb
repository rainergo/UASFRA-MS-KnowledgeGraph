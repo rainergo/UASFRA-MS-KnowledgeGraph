{
 "nbformat": 4,
 "nbformat_minor": 0,
 "metadata": {
  "colab": {
   "name": "Ontology Driven KG creation",
   "provenance": [],
   "collapsed_sections": [],
   "authorship_tag": "ABX9TyPa90V5qw4Hy/CLydkkxIwD",
   "include_colab_link": true
  },
  "kernelspec": {
   "name": "python3",
   "language": "python",
   "display_name": "Python 3 (ipykernel)"
  },
  "language_info": {
   "name": "python"
  }
 },
 "cells": [
  {
   "cell_type": "markdown",
   "source": [
    "### Source: https://www.youtube.com/playlist?list=PLJ-sIDAvcXl7VaU-AR27Kwiw52Q9UTDEn"
   ],
   "metadata": {
    "collapsed": false
   }
  },
  {
   "cell_type": "code",
   "execution_count": 1,
   "outputs": [],
   "source": [
    "from rdflib import Graph, Literal, RDF, URIRef, Namespace\n",
    "from rdflib.namespace import FOAF, XSD, RDFS, RDF, OWL, XMLNS\n",
    "import pathlib\n",
    "from dotenv import load_dotenv\n",
    "from settings import path_base"
   ],
   "metadata": {
    "collapsed": false
   }
  },
  {
   "cell_type": "code",
   "execution_count": 2,
   "outputs": [],
   "source": [
    "# Own ontology:\n",
    "# path_to_ontology = pathlib.Path(path_base, \"models/Ontologies/Ontology3.ttl\").as_posix()\n",
    "path_to_ontology = pathlib.Path(path_base, \"models/Ontologies/Ontology4.ttl\").as_posix()\n",
    "# From tutorial:\n",
    "# path_to_ontology = \"https://raw.githubusercontent.com/jbarrasa/goingmeta/main/session5/ontos/rail.ttl\""
   ],
   "metadata": {
    "collapsed": false
   }
  },
  {
   "cell_type": "code",
   "execution_count": 3,
   "outputs": [],
   "source": [
    "# Custom Namespace\n",
    "NS = Namespace('http://onto.neo4j.com/rail#')"
   ],
   "metadata": {
    "collapsed": false
   }
  },
  {
   "cell_type": "code",
   "execution_count": 4,
   "outputs": [],
   "source": [
    "def getLocalPart(uri):\n",
    "  pos = -1\n",
    "  pos = uri.rfind('#')\n",
    "  if pos < 0 :\n",
    "    pos = uri.rfind('/')\n",
    "  if pos < 0 :\n",
    "    pos = uri.rindex(':')\n",
    "  return uri[pos+1:]\n",
    "\n",
    "def getNamespacePart(uri):\n",
    "  pos = -1\n",
    "  pos = uri.rfind('#')\n",
    "  if pos < 0 :\n",
    "    pos = uri.rfind('/')\n",
    "  if pos < 0 :\n",
    "    pos = uri.rindex(':')\n",
    "  return uri[0:pos+1]"
   ],
   "metadata": {
    "collapsed": false
   }
  },
  {
   "cell_type": "code",
   "execution_count": 31,
   "outputs": [
    {
     "name": "stdout",
     "output_type": "stream",
     "text": [
      "{rdflib.term.URIRef('http://www.semanticweb.org/rainer/ontologies/2023/10/Ontology4#Company'): [rdflib.term.URIRef('http://www.semanticweb.org/rainer/ontologies/2023/10/Ontology4#LEI'), rdflib.term.URIRef('http://www.semanticweb.org/rainer/ontologies/2023/10/Ontology4#companyName'), rdflib.term.URIRef('http://www.semanticweb.org/rainer/ontologies/2023/10/Ontology4#reportingPeriod')], rdflib.term.URIRef('http://www.semanticweb.org/rainer/ontologies/2023/10/Ontology4#Emission'): [rdflib.term.URIRef('http://www.semanticweb.org/rainer/ontologies/2023/10/Ontology4#BaselineValue'), rdflib.term.URIRef('http://www.semanticweb.org/rainer/ontologies/2023/10/Ontology4#BaselineYear')]}\n"
     ]
    }
   ],
   "source": [
    "# Load the ontology from the Turtle file\n",
    "g = Graph()\n",
    "g.parse(path_to_ontology, format='ttl')\n",
    "\n",
    "key_properties = {'Company': 'LEI'}\n",
    "\n",
    "# Get DatatypeProperties for each Class\n",
    "data_type_properties = dict()\n",
    "for (subj1, pred1, obj1) in g.triples((None, RDF.type, OWL.Class)):\n",
    "    for (subj2, pred2, obj2) in g.triples((None, RDFS.domain, subj1)):\n",
    "        for (subj3, pred3, obj3) in g.triples((subj2, RDF.type, OWL.DatatypeProperty)):\n",
    "            if not subj1 in data_type_properties:\n",
    "               data_type_properties[subj1] = list()\n",
    "            data_type_properties[subj1].append(subj3)\n",
    "\n",
    "print(data_type_properties)"
   ],
   "metadata": {
    "collapsed": false
   }
  },
  {
   "cell_type": "code",
   "execution_count": 39,
   "outputs": [
    {
     "name": "stdout",
     "output_type": "stream",
     "text": [
      "\n",
      "    UNWIND $json_data AS data\n",
      "    MERGE (n:Company)\n",
      "    CREATE CONSTRAINT ON (n:Company) REQUIRE n.LEI IS UNIQUE \n",
      "\tSET n.LEI = data.LEI \n",
      "\tSET n.companyName = data.companyName \n",
      "\tSET n.reportingPeriod = data.reportingPeriod \n",
      "\tRETURN count(*) as total\n",
      "----\n",
      "\n",
      "    UNWIND $json_data AS data\n",
      "    MERGE (n:Emission)\n",
      "    SET n.BaselineValue = data.BaselineValue \n",
      "\tSET n.BaselineYear = data.BaselineYear \n",
      "\tRETURN count(*) as total\n",
      "----\n"
     ]
    }
   ],
   "source": [
    "# Write Cypher-Queries for DatatypeProperties\n",
    "nodes = list()\n",
    "# export_ns = set()\n",
    "# export_mappings = {}\n",
    "\n",
    "for uri_class, uri_property_list in data_type_properties.items():\n",
    "    #########\n",
    "    # export_ns.add(getNamespacePart(row.curi))\n",
    "    # export_mappings[getLocalPart(row.curi)] = str(row.curi)\n",
    "    node = getLocalPart(uri_class)\n",
    "    s1 = f\"\"\"\n",
    "    UNWIND $json_data AS data\n",
    "    MERGE (n:{node})\n",
    "    \"\"\"\n",
    "    props = list()\n",
    "    for prop in uri_property_list:\n",
    "        p = getLocalPart(prop)\n",
    "        if node in key_properties and p == key_properties[node]:\n",
    "            constr = f\"CREATE CONSTRAINT ON (n:{node}) REQUIRE n.{p} IS UNIQUE\"\n",
    "            props.append(constr)\n",
    "        props.append(f\"SET n.{p} = data.{p}\")\n",
    "    props.append(\"RETURN count(*) as total\")\n",
    "    s2 = ' \\n\\t'.join(props)\n",
    "    nodes.append(s1+s2)\n",
    "\n",
    "for c in nodes:\n",
    "    print(c)\n",
    "    print('----')"
   ],
   "metadata": {
    "collapsed": false
   }
  },
  {
   "cell_type": "code",
   "execution_count": 7,
   "outputs": [
    {
     "name": "stdout",
     "output_type": "stream",
     "text": [
      "[{'SOURCE': rdflib.term.URIRef('http://www.semanticweb.org/rainer/ontologies/2023/10/Ontology4#Asset'), 'TARGET': rdflib.term.URIRef('http://www.semanticweb.org/rainer/ontologies/2023/10/Ontology4#Energy'), 'REL': rdflib.term.URIRef('http://www.semanticweb.org/rainer/ontologies/2023/10/Ontology4#consumes')}, {'SOURCE': rdflib.term.URIRef('http://www.semanticweb.org/rainer/ontologies/2023/10/Ontology4#FromNuclearSources'), 'TARGET': rdflib.term.URIRef('http://www.semanticweb.org/rainer/ontologies/2023/10/Ontology4#NuclearWaste'), 'REL': rdflib.term.URIRef('http://www.semanticweb.org/rainer/ontologies/2023/10/Ontology4#disposes')}, {'SOURCE': rdflib.term.URIRef('http://www.semanticweb.org/rainer/ontologies/2023/10/Ontology4#Asset'), 'TARGET': rdflib.term.URIRef('http://www.semanticweb.org/rainer/ontologies/2023/10/Ontology4#Scope1'), 'REL': rdflib.term.URIRef('http://www.semanticweb.org/rainer/ontologies/2023/10/Ontology4#emits')}, {'SOURCE': rdflib.term.URIRef('http://www.semanticweb.org/rainer/ontologies/2023/10/Ontology4#Company'), 'TARGET': rdflib.term.URIRef('http://www.semanticweb.org/rainer/ontologies/2023/10/Ontology4#EnvironmentalFootprint'), 'REL': rdflib.term.URIRef('http://www.semanticweb.org/rainer/ontologies/2023/10/Ontology4#impacts')}, {'SOURCE': rdflib.term.URIRef('http://www.semanticweb.org/rainer/ontologies/2023/10/Ontology4#FromFossileSources'), 'TARGET': rdflib.term.URIRef('http://www.semanticweb.org/rainer/ontologies/2023/10/Ontology4#Scope2'), 'REL': rdflib.term.URIRef('http://www.semanticweb.org/rainer/ontologies/2023/10/Ontology4#indirectlyEmits')}, {'SOURCE': rdflib.term.URIRef('http://www.semanticweb.org/rainer/ontologies/2023/10/Ontology4#Company'), 'TARGET': rdflib.term.URIRef('http://www.semanticweb.org/rainer/ontologies/2023/10/Ontology4#FinancialReport'), 'REL': rdflib.term.URIRef('http://www.semanticweb.org/rainer/ontologies/2023/10/Ontology4#isIn')}]\n"
     ]
    }
   ],
   "source": [
    "# Write Cypher-Queries for Relationships between Classes\n",
    "# Get DatatypeProperties for each Class\n",
    "relationships = list()\n",
    "for (subj1, pred1, obj1) in g.triples((None, RDF.type, OWL.ObjectProperty)):\n",
    "    for (subj2, pred2, obj2) in g.triples((subj1, RDFS.domain, None)):\n",
    "        for (subj3, pred3, obj3) in g.triples((subj1, RDFS.range, None)):\n",
    "            relationships.append({'SOURCE': obj2, 'TARGET': obj3, 'REL': subj1})\n",
    "\n",
    "print(relationships)"
   ],
   "metadata": {
    "collapsed": false
   }
  },
  {
   "cell_type": "code",
   "execution_count": 11,
   "outputs": [
    {
     "name": "stdout",
     "output_type": "stream",
     "text": [
      "\n",
      "    unwind $records AS record \n",
      "    match (source:Asset)\n",
      "    match (target:Energy)\n",
      "    merge (source)-[r:consumes]->(target)\n",
      "    return count(*) as total\n",
      "    \n",
      "\n",
      "    unwind $records AS record \n",
      "    match (source:FromNuclearSources)\n",
      "    match (target:NuclearWaste)\n",
      "    merge (source)-[r:disposes]->(target)\n",
      "    return count(*) as total\n",
      "    \n",
      "\n",
      "    unwind $records AS record \n",
      "    match (source:Asset)\n",
      "    match (target:Scope1)\n",
      "    merge (source)-[r:emits]->(target)\n",
      "    return count(*) as total\n",
      "    \n",
      "\n",
      "    unwind $records AS record \n",
      "    match (source:Company)\n",
      "    match (target:EnvironmentalFootprint)\n",
      "    merge (source)-[r:impacts]->(target)\n",
      "    return count(*) as total\n",
      "    \n",
      "\n",
      "    unwind $records AS record \n",
      "    match (source:FromFossileSources)\n",
      "    match (target:Scope2)\n",
      "    merge (source)-[r:indirectlyEmits]->(target)\n",
      "    return count(*) as total\n",
      "    \n",
      "\n",
      "    unwind $records AS record \n",
      "    match (source:Company)\n",
      "    match (target:FinancialReport)\n",
      "    merge (source)-[r:isIn]->(target)\n",
      "    return count(*) as total\n",
      "    \n"
     ]
    }
   ],
   "source": [
    "rels = list()\n",
    "for rel in relationships:\n",
    "    rs = f\"\"\"\n",
    "    unwind $records AS record \n",
    "    match (source:{getLocalPart(rel['SOURCE'])})\n",
    "    match (target:{getLocalPart(rel['TARGET'])})\n",
    "    merge (source)-[r:{getLocalPart(rel['REL'])}]->(target)\n",
    "    return count(*) as total\n",
    "    \"\"\"\n",
    "    rels.append(rs)\n",
    "\n",
    "for i in rels:\n",
    "    print(i)"
   ],
   "metadata": {
    "collapsed": false
   }
  },
  {
   "cell_type": "code",
   "execution_count": 12,
   "outputs": [
    {
     "ename": "SyntaxError",
     "evalue": "f-string: expecting '}' (865439066.py, line 3)",
     "output_type": "error",
     "traceback": [
      "\u001B[1;36m  Cell \u001B[1;32mIn[12], line 3\u001B[1;36m\u001B[0m\n\u001B[1;33m    \"\"\"\u001B[0m\n\u001B[1;37m       ^\u001B[0m\n\u001B[1;31mSyntaxError\u001B[0m\u001B[1;31m:\u001B[0m f-string: expecting '}'\n"
     ]
    }
   ],
   "source": [],
   "metadata": {
    "collapsed": false
   }
  }
 ]
}
