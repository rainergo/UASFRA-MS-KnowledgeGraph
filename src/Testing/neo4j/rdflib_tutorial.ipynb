{
 "nbformat": 4,
 "nbformat_minor": 0,
 "metadata": {
  "colab": {
   "name": "Ontology Driven KG creation",
   "provenance": [],
   "collapsed_sections": [],
   "authorship_tag": "ABX9TyPa90V5qw4Hy/CLydkkxIwD",
   "include_colab_link": true
  },
  "kernelspec": {
   "name": "python3",
   "language": "python",
   "display_name": "Python 3 (ipykernel)"
  },
  "language_info": {
   "name": "python"
  }
 },
 "cells": [
  {
   "cell_type": "markdown",
   "source": [
    "### Source: https://www.youtube.com/playlist?list=PLJ-sIDAvcXl7VaU-AR27Kwiw52Q9UTDEn"
   ],
   "metadata": {
    "collapsed": false
   }
  },
  {
   "cell_type": "code",
   "execution_count": 15,
   "outputs": [],
   "source": [
    "from rdflib import Graph, Literal, RDF, URIRef, Namespace\n",
    "from rdflib.namespace import FOAF, XSD, RDFS, RDF, OWL, XMLNS\n",
    "import pathlib\n",
    "from dotenv import load_dotenv\n",
    "from settings import path_base"
   ],
   "metadata": {
    "collapsed": false
   }
  },
  {
   "cell_type": "code",
   "execution_count": 16,
   "outputs": [],
   "source": [
    "# Own ontology:\n",
    "# path_to_ontology = pathlib.Path(path_base, \"models/Ontologies/Ontology3.ttl\").as_posix()\n",
    "path_to_ontology = pathlib.Path(path_base, \"models/Ontologies/rail.ttl\").as_posix()\n",
    "# From tutorial:\n",
    "# path_to_ontology = \"https://raw.githubusercontent.com/jbarrasa/goingmeta/main/session5/ontos/rail.ttl\""
   ],
   "metadata": {
    "collapsed": false
   }
  },
  {
   "cell_type": "code",
   "execution_count": 17,
   "outputs": [
    {
     "data": {
      "text/plain": "<Graph identifier=N051a428d1550452e84271a07ba39c3ac (<class 'rdflib.graph.Graph'>)>"
     },
     "execution_count": 17,
     "metadata": {},
     "output_type": "execute_result"
    }
   ],
   "source": [
    "g = Graph()\n",
    "g.parse(path_to_ontology)"
   ],
   "metadata": {
    "collapsed": false
   }
  },
  {
   "cell_type": "code",
   "execution_count": 18,
   "outputs": [
    {
     "name": "stdout",
     "output_type": "stream",
     "text": [
      "TRIPLES: (rdflib.term.URIRef('http://onto.neo4j.com/rail#long'), rdflib.term.URIRef('http://www.w3.org/2000/01/rdf-schema#domain'), rdflib.term.URIRef('http://onto.neo4j.com/rail#Station'))\n",
      "TRIPLES: (rdflib.term.URIRef('http://onto.neo4j.com/rail#stationName'), rdflib.term.URIRef('http://www.w3.org/2000/01/rdf-schema#domain'), rdflib.term.URIRef('http://onto.neo4j.com/rail#Station'))\n",
      "TRIPLES: (rdflib.term.URIRef('http://onto.neo4j.com/rail#'), rdflib.term.URIRef('http://www.w3.org/1999/02/22-rdf-syntax-ns#type'), rdflib.term.URIRef('http://www.w3.org/2002/07/owl#Ontology'))\n",
      "TRIPLES: (rdflib.term.URIRef('http://onto.neo4j.com/rail#Event'), rdflib.term.URIRef('http://www.w3.org/1999/02/22-rdf-syntax-ns#type'), rdflib.term.URIRef('http://www.w3.org/2002/07/owl#Class'))\n",
      "TRIPLES: (rdflib.term.URIRef('http://onto.neo4j.com/rail#lat'), rdflib.term.URIRef('http://www.w3.org/2000/01/rdf-schema#range'), rdflib.term.URIRef('http://www.w3.org/2001/XMLSchema#float'))\n",
      "TRIPLES: (rdflib.term.URIRef('http://onto.neo4j.com/rail#eventType'), rdflib.term.URIRef('http://www.w3.org/2000/01/rdf-schema#range'), rdflib.term.URIRef('http://www.w3.org/2001/XMLSchema#string'))\n",
      "TRIPLES: (rdflib.term.URIRef('http://onto.neo4j.com/rail#lat'), rdflib.term.URIRef('http://www.w3.org/2000/01/rdf-schema#domain'), rdflib.term.URIRef('http://onto.neo4j.com/rail#Station'))\n",
      "TRIPLES: (rdflib.term.URIRef('http://onto.neo4j.com/rail#stationCode'), rdflib.term.URIRef('http://www.w3.org/2000/01/rdf-schema#domain'), rdflib.term.URIRef('http://onto.neo4j.com/rail#Station'))\n",
      "TRIPLES: (rdflib.term.URIRef('http://onto.neo4j.com/rail#eventId'), rdflib.term.URIRef('http://www.w3.org/2000/01/rdf-schema#domain'), rdflib.term.URIRef('http://onto.neo4j.com/rail#Event'))\n",
      "TRIPLES: (rdflib.term.URIRef('http://onto.neo4j.com/rail#stationAddress'), rdflib.term.URIRef('http://www.w3.org/1999/02/22-rdf-syntax-ns#type'), rdflib.term.URIRef('http://www.w3.org/2002/07/owl#DatatypeProperty'))\n",
      "TRIPLES: (rdflib.term.URIRef('http://onto.neo4j.com/rail#stationAddress'), rdflib.term.URIRef('http://www.w3.org/2000/01/rdf-schema#range'), rdflib.term.URIRef('http://www.w3.org/2001/XMLSchema#string'))\n",
      "TRIPLES: (rdflib.term.URIRef('http://onto.neo4j.com/rail#timestamp'), rdflib.term.URIRef('http://www.w3.org/2000/01/rdf-schema#domain'), rdflib.term.URIRef('http://onto.neo4j.com/rail#Event'))\n",
      "TRIPLES: (rdflib.term.URIRef('http://onto.neo4j.com/rail#eventType'), rdflib.term.URIRef('http://www.w3.org/1999/02/22-rdf-syntax-ns#type'), rdflib.term.URIRef('http://www.w3.org/2002/07/owl#DatatypeProperty'))\n",
      "TRIPLES: (rdflib.term.URIRef('http://onto.neo4j.com/rail#link'), rdflib.term.URIRef('http://www.w3.org/1999/02/22-rdf-syntax-ns#type'), rdflib.term.URIRef('http://www.w3.org/2002/07/owl#ObjectProperty'))\n",
      "TRIPLES: (rdflib.term.URIRef('http://onto.neo4j.com/rail#affects'), rdflib.term.URIRef('http://www.w3.org/2000/01/rdf-schema#range'), rdflib.term.URIRef('http://onto.neo4j.com/rail#Station'))\n",
      "TRIPLES: (rdflib.term.URIRef('http://onto.neo4j.com/rail#eventDescription'), rdflib.term.URIRef('http://www.w3.org/1999/02/22-rdf-syntax-ns#type'), rdflib.term.URIRef('http://www.w3.org/2002/07/owl#DatatypeProperty'))\n",
      "TRIPLES: (rdflib.term.URIRef('http://onto.neo4j.com/rail#long'), rdflib.term.URIRef('http://www.w3.org/1999/02/22-rdf-syntax-ns#type'), rdflib.term.URIRef('http://www.w3.org/2002/07/owl#DatatypeProperty'))\n",
      "TRIPLES: (rdflib.term.URIRef('http://onto.neo4j.com/rail#eventDescription'), rdflib.term.URIRef('http://www.w3.org/2000/01/rdf-schema#range'), rdflib.term.URIRef('http://www.w3.org/2001/XMLSchema#string'))\n",
      "TRIPLES: (rdflib.term.URIRef('http://onto.neo4j.com/rail#affects'), rdflib.term.URIRef('http://www.w3.org/2000/01/rdf-schema#domain'), rdflib.term.URIRef('http://onto.neo4j.com/rail#Event'))\n",
      "TRIPLES: (rdflib.term.URIRef('http://onto.neo4j.com/rail#stationName'), rdflib.term.URIRef('http://www.w3.org/1999/02/22-rdf-syntax-ns#type'), rdflib.term.URIRef('http://www.w3.org/2002/07/owl#DatatypeProperty'))\n",
      "TRIPLES: (rdflib.term.URIRef('http://onto.neo4j.com/rail#stationCode'), rdflib.term.URIRef('http://www.w3.org/1999/02/22-rdf-syntax-ns#type'), rdflib.term.URIRef('http://www.w3.org/2002/07/owl#DatatypeProperty'))\n",
      "TRIPLES: (rdflib.term.URIRef('http://onto.neo4j.com/rail#stationName'), rdflib.term.URIRef('http://www.w3.org/2000/01/rdf-schema#range'), rdflib.term.URIRef('http://www.w3.org/2001/XMLSchema#string'))\n",
      "TRIPLES: (rdflib.term.URIRef('http://onto.neo4j.com/rail#Station'), rdflib.term.URIRef('http://www.w3.org/1999/02/22-rdf-syntax-ns#type'), rdflib.term.URIRef('http://www.w3.org/2002/07/owl#Class'))\n",
      "TRIPLES: (rdflib.term.URIRef('http://onto.neo4j.com/rail#lat'), rdflib.term.URIRef('http://www.w3.org/1999/02/22-rdf-syntax-ns#type'), rdflib.term.URIRef('http://www.w3.org/2002/07/owl#DatatypeProperty'))\n",
      "TRIPLES: (rdflib.term.URIRef('http://onto.neo4j.com/rail#stationAddress'), rdflib.term.URIRef('http://www.w3.org/2000/01/rdf-schema#domain'), rdflib.term.URIRef('http://onto.neo4j.com/rail#Station'))\n",
      "TRIPLES: (rdflib.term.URIRef('http://onto.neo4j.com/rail#eventType'), rdflib.term.URIRef('http://www.w3.org/2000/01/rdf-schema#domain'), rdflib.term.URIRef('http://onto.neo4j.com/rail#Event'))\n",
      "TRIPLES: (rdflib.term.URIRef('http://onto.neo4j.com/rail#stationCode'), rdflib.term.URIRef('http://www.w3.org/2000/01/rdf-schema#range'), rdflib.term.URIRef('http://www.w3.org/2001/XMLSchema#string'))\n",
      "TRIPLES: (rdflib.term.URIRef('http://onto.neo4j.com/rail#timestamp'), rdflib.term.URIRef('http://www.w3.org/1999/02/22-rdf-syntax-ns#type'), rdflib.term.URIRef('http://www.w3.org/2002/07/owl#DatatypeProperty'))\n",
      "TRIPLES: (rdflib.term.URIRef('http://onto.neo4j.com/rail#eventId'), rdflib.term.URIRef('http://www.w3.org/1999/02/22-rdf-syntax-ns#type'), rdflib.term.URIRef('http://www.w3.org/2002/07/owl#DatatypeProperty'))\n",
      "TRIPLES: (rdflib.term.URIRef('http://onto.neo4j.com/rail#eventId'), rdflib.term.URIRef('http://www.w3.org/2000/01/rdf-schema#range'), rdflib.term.URIRef('http://www.w3.org/2001/XMLSchema#string'))\n",
      "TRIPLES: (rdflib.term.URIRef('http://onto.neo4j.com/rail#link'), rdflib.term.URIRef('http://www.w3.org/2000/01/rdf-schema#range'), rdflib.term.URIRef('http://onto.neo4j.com/rail#Station'))\n",
      "TRIPLES: (rdflib.term.URIRef('http://onto.neo4j.com/rail#affects'), rdflib.term.URIRef('http://www.w3.org/1999/02/22-rdf-syntax-ns#type'), rdflib.term.URIRef('http://www.w3.org/2002/07/owl#ObjectProperty'))\n",
      "TRIPLES: (rdflib.term.URIRef('http://onto.neo4j.com/rail#link'), rdflib.term.URIRef('http://www.w3.org/2000/01/rdf-schema#domain'), rdflib.term.URIRef('http://onto.neo4j.com/rail#Station'))\n",
      "TRIPLES: (rdflib.term.URIRef('http://onto.neo4j.com/rail#eventDescription'), rdflib.term.URIRef('http://www.w3.org/2000/01/rdf-schema#domain'), rdflib.term.URIRef('http://onto.neo4j.com/rail#Event'))\n",
      "TRIPLES: (rdflib.term.URIRef('http://onto.neo4j.com/rail#long'), rdflib.term.URIRef('http://www.w3.org/2000/01/rdf-schema#range'), rdflib.term.URIRef('http://www.w3.org/2001/XMLSchema#float'))\n"
     ]
    }
   ],
   "source": [
    "# Print triples\n",
    "for triples in g:\n",
    "    print(\"TRIPLES:\", triples)"
   ],
   "metadata": {
    "collapsed": false
   }
  },
  {
   "cell_type": "code",
   "execution_count": 19,
   "outputs": [
    {
     "name": "stdout",
     "output_type": "stream",
     "text": [
      "SUB: http://onto.neo4j.com/rail#long \n",
      "PRED: http://www.w3.org/2000/01/rdf-schema#domain \n",
      "OBJ: http://onto.neo4j.com/rail#Station\n",
      "--------------------------\n",
      "SUB: http://onto.neo4j.com/rail#stationName \n",
      "PRED: http://www.w3.org/2000/01/rdf-schema#domain \n",
      "OBJ: http://onto.neo4j.com/rail#Station\n",
      "--------------------------\n",
      "SUB: http://onto.neo4j.com/rail# \n",
      "PRED: http://www.w3.org/1999/02/22-rdf-syntax-ns#type \n",
      "OBJ: http://www.w3.org/2002/07/owl#Ontology\n",
      "--------------------------\n",
      "SUB: http://onto.neo4j.com/rail#Event \n",
      "PRED: http://www.w3.org/1999/02/22-rdf-syntax-ns#type \n",
      "OBJ: http://www.w3.org/2002/07/owl#Class\n",
      "--------------------------\n",
      "SUB: http://onto.neo4j.com/rail#lat \n",
      "PRED: http://www.w3.org/2000/01/rdf-schema#range \n",
      "OBJ: http://www.w3.org/2001/XMLSchema#float\n",
      "--------------------------\n",
      "SUB: http://onto.neo4j.com/rail#eventType \n",
      "PRED: http://www.w3.org/2000/01/rdf-schema#range \n",
      "OBJ: http://www.w3.org/2001/XMLSchema#string\n",
      "--------------------------\n",
      "SUB: http://onto.neo4j.com/rail#lat \n",
      "PRED: http://www.w3.org/2000/01/rdf-schema#domain \n",
      "OBJ: http://onto.neo4j.com/rail#Station\n",
      "--------------------------\n",
      "SUB: http://onto.neo4j.com/rail#stationCode \n",
      "PRED: http://www.w3.org/2000/01/rdf-schema#domain \n",
      "OBJ: http://onto.neo4j.com/rail#Station\n",
      "--------------------------\n",
      "SUB: http://onto.neo4j.com/rail#eventId \n",
      "PRED: http://www.w3.org/2000/01/rdf-schema#domain \n",
      "OBJ: http://onto.neo4j.com/rail#Event\n",
      "--------------------------\n",
      "SUB: http://onto.neo4j.com/rail#stationAddress \n",
      "PRED: http://www.w3.org/1999/02/22-rdf-syntax-ns#type \n",
      "OBJ: http://www.w3.org/2002/07/owl#DatatypeProperty\n",
      "--------------------------\n",
      "SUB: http://onto.neo4j.com/rail#stationAddress \n",
      "PRED: http://www.w3.org/2000/01/rdf-schema#range \n",
      "OBJ: http://www.w3.org/2001/XMLSchema#string\n",
      "--------------------------\n"
     ]
    }
   ],
   "source": [
    "# Loop through each triple in the graph (subj, pred, obj)\n",
    "for index, (sub, pred, obj) in enumerate(g):\n",
    "    print('SUB:', sub, '\\nPRED:', pred, '\\nOBJ:', obj)\n",
    "    print('--------------------------')\n",
    "    if index == 10:\n",
    "        break"
   ],
   "metadata": {
    "collapsed": false
   }
  },
  {
   "cell_type": "code",
   "execution_count": 20,
   "outputs": [
    {
     "name": "stdout",
     "output_type": "stream",
     "text": [
      "SUB: http://onto.neo4j.com/rail#Event\n",
      "SUB: http://onto.neo4j.com/rail#Station\n"
     ]
    }
   ],
   "source": [
    "# Loop through subjects and objects of the triples\n",
    "for sub in g.subjects(predicate=RDF.type, object=OWL.Class):\n",
    "    print('SUB:', sub)\n",
    "    for ob in g.objects(subject=RDF.type, predicate=OWL.DatatypeProperty):\n",
    "        print('SUB:', sub, 'OBJ:', ob)"
   ],
   "metadata": {
    "collapsed": false
   }
  },
  {
   "cell_type": "code",
   "execution_count": 21,
   "outputs": [
    {
     "name": "stdout",
     "output_type": "stream",
     "text": [
      "SUB,OBJ: (rdflib.term.URIRef('http://onto.neo4j.com/rail#'), rdflib.term.URIRef('http://www.w3.org/2002/07/owl#Ontology'))\n",
      "SUB,OBJ: (rdflib.term.URIRef('http://onto.neo4j.com/rail#affects'), rdflib.term.URIRef('http://www.w3.org/2002/07/owl#ObjectProperty'))\n",
      "SUB,OBJ: (rdflib.term.URIRef('http://onto.neo4j.com/rail#link'), rdflib.term.URIRef('http://www.w3.org/2002/07/owl#ObjectProperty'))\n",
      "SUB,OBJ: (rdflib.term.URIRef('http://onto.neo4j.com/rail#eventDescription'), rdflib.term.URIRef('http://www.w3.org/2002/07/owl#DatatypeProperty'))\n",
      "SUB,OBJ: (rdflib.term.URIRef('http://onto.neo4j.com/rail#eventId'), rdflib.term.URIRef('http://www.w3.org/2002/07/owl#DatatypeProperty'))\n",
      "SUB,OBJ: (rdflib.term.URIRef('http://onto.neo4j.com/rail#eventType'), rdflib.term.URIRef('http://www.w3.org/2002/07/owl#DatatypeProperty'))\n",
      "SUB,OBJ: (rdflib.term.URIRef('http://onto.neo4j.com/rail#lat'), rdflib.term.URIRef('http://www.w3.org/2002/07/owl#DatatypeProperty'))\n",
      "SUB,OBJ: (rdflib.term.URIRef('http://onto.neo4j.com/rail#long'), rdflib.term.URIRef('http://www.w3.org/2002/07/owl#DatatypeProperty'))\n",
      "SUB,OBJ: (rdflib.term.URIRef('http://onto.neo4j.com/rail#stationAddress'), rdflib.term.URIRef('http://www.w3.org/2002/07/owl#DatatypeProperty'))\n",
      "SUB,OBJ: (rdflib.term.URIRef('http://onto.neo4j.com/rail#stationCode'), rdflib.term.URIRef('http://www.w3.org/2002/07/owl#DatatypeProperty'))\n",
      "SUB,OBJ: (rdflib.term.URIRef('http://onto.neo4j.com/rail#stationName'), rdflib.term.URIRef('http://www.w3.org/2002/07/owl#DatatypeProperty'))\n",
      "SUB,OBJ: (rdflib.term.URIRef('http://onto.neo4j.com/rail#timestamp'), rdflib.term.URIRef('http://www.w3.org/2002/07/owl#DatatypeProperty'))\n",
      "SUB,OBJ: (rdflib.term.URIRef('http://onto.neo4j.com/rail#Event'), rdflib.term.URIRef('http://www.w3.org/2002/07/owl#Class'))\n",
      "SUB,OBJ: (rdflib.term.URIRef('http://onto.neo4j.com/rail#Station'), rdflib.term.URIRef('http://www.w3.org/2002/07/owl#Class'))\n"
     ]
    }
   ],
   "source": [
    "for sub_obj in g.subject_objects(predicate=RDF.type):\n",
    "    print('SUB,OBJ:', sub_obj)"
   ],
   "metadata": {
    "collapsed": false
   }
  },
  {
   "cell_type": "code",
   "execution_count": 22,
   "outputs": [],
   "source": [
    "# Define Namespaces and BINDings\n",
    "NS_RAINER = Namespace(\"http://www.semanticweb.org/rainer/ontologies/2023/10/Ontology4#\")\n",
    "NS_RAIL = Namespace(\"http://onto.neo4j.com/rail#\")\n",
    "g.bind('rail', NS_RAIL)\n",
    "g.bind('rainer', NS_RAINER)\n",
    "g.bind('owl', OWL)\n",
    "g.bind('rdf', RDF)\n",
    "g.bind('xml', XMLNS)\n",
    "g.bind('xsd', XSD)\n",
    "g.bind('rdfs', RDFS)"
   ],
   "metadata": {
    "collapsed": false
   }
  },
  {
   "cell_type": "code",
   "execution_count": 23,
   "outputs": [],
   "source": [
    "rail_Event = NS_RAIL['Event']\n",
    "rail_Station = NS_RAIL['Station']"
   ],
   "metadata": {
    "collapsed": false
   }
  },
  {
   "cell_type": "code",
   "execution_count": 24,
   "outputs": [
    {
     "name": "stdout",
     "output_type": "stream",
     "text": [
      "PRED: http://www.w3.org/2000/01/rdf-schema#domain\n",
      "PRED: http://www.w3.org/2000/01/rdf-schema#domain\n",
      "PRED: http://www.w3.org/1999/02/22-rdf-syntax-ns#type\n",
      "PRED: http://www.w3.org/1999/02/22-rdf-syntax-ns#type\n",
      "PRED: http://www.w3.org/2000/01/rdf-schema#range\n",
      "PRED: http://www.w3.org/2000/01/rdf-schema#range\n",
      "PRED: http://www.w3.org/2000/01/rdf-schema#domain\n",
      "PRED: http://www.w3.org/2000/01/rdf-schema#domain\n",
      "PRED: http://www.w3.org/2000/01/rdf-schema#domain\n",
      "PRED: http://www.w3.org/1999/02/22-rdf-syntax-ns#type\n",
      "PRED: http://www.w3.org/2000/01/rdf-schema#range\n",
      "PRED: http://www.w3.org/2000/01/rdf-schema#domain\n",
      "PRED: http://www.w3.org/1999/02/22-rdf-syntax-ns#type\n",
      "PRED: http://www.w3.org/1999/02/22-rdf-syntax-ns#type\n",
      "PRED: http://www.w3.org/2000/01/rdf-schema#range\n",
      "PRED: http://www.w3.org/1999/02/22-rdf-syntax-ns#type\n",
      "PRED: http://www.w3.org/1999/02/22-rdf-syntax-ns#type\n",
      "PRED: http://www.w3.org/2000/01/rdf-schema#range\n",
      "PRED: http://www.w3.org/2000/01/rdf-schema#domain\n",
      "PRED: http://www.w3.org/1999/02/22-rdf-syntax-ns#type\n",
      "PRED: http://www.w3.org/1999/02/22-rdf-syntax-ns#type\n",
      "PRED: http://www.w3.org/2000/01/rdf-schema#range\n",
      "PRED: http://www.w3.org/1999/02/22-rdf-syntax-ns#type\n",
      "PRED: http://www.w3.org/1999/02/22-rdf-syntax-ns#type\n",
      "PRED: http://www.w3.org/2000/01/rdf-schema#domain\n",
      "PRED: http://www.w3.org/2000/01/rdf-schema#domain\n",
      "PRED: http://www.w3.org/2000/01/rdf-schema#range\n",
      "PRED: http://www.w3.org/1999/02/22-rdf-syntax-ns#type\n",
      "PRED: http://www.w3.org/1999/02/22-rdf-syntax-ns#type\n",
      "PRED: http://www.w3.org/2000/01/rdf-schema#range\n",
      "PRED: http://www.w3.org/2000/01/rdf-schema#range\n",
      "PRED: http://www.w3.org/1999/02/22-rdf-syntax-ns#type\n",
      "PRED: http://www.w3.org/2000/01/rdf-schema#domain\n",
      "PRED: http://www.w3.org/2000/01/rdf-schema#domain\n",
      "PRED: http://www.w3.org/2000/01/rdf-schema#range\n"
     ]
    }
   ],
   "source": [
    "for pred in g.predicates():\n",
    "    print('PRED:', pred)"
   ],
   "metadata": {
    "collapsed": false
   }
  },
  {
   "cell_type": "code",
   "execution_count": 25,
   "outputs": [
    {
     "name": "stdout",
     "output_type": "stream",
     "text": [
      "(rdflib.term.URIRef('http://onto.neo4j.com/rail#affects'), rdflib.term.URIRef('http://www.w3.org/2000/01/rdf-schema#domain'))\n",
      "(rdflib.term.URIRef('http://onto.neo4j.com/rail#eventDescription'), rdflib.term.URIRef('http://www.w3.org/2000/01/rdf-schema#domain'))\n",
      "(rdflib.term.URIRef('http://onto.neo4j.com/rail#eventId'), rdflib.term.URIRef('http://www.w3.org/2000/01/rdf-schema#domain'))\n",
      "(rdflib.term.URIRef('http://onto.neo4j.com/rail#eventType'), rdflib.term.URIRef('http://www.w3.org/2000/01/rdf-schema#domain'))\n",
      "(rdflib.term.URIRef('http://onto.neo4j.com/rail#timestamp'), rdflib.term.URIRef('http://www.w3.org/2000/01/rdf-schema#domain'))\n"
     ]
    }
   ],
   "source": [
    "for sub_pred in g.subject_predicates(object=rail_Event):\n",
    "    print(sub_pred)"
   ],
   "metadata": {
    "collapsed": false
   }
  },
  {
   "cell_type": "code",
   "execution_count": 26,
   "outputs": [
    {
     "name": "stdout",
     "output_type": "stream",
     "text": [
      "PRED: http://www.w3.org/2000/01/rdf-schema#range\n",
      "PRED: http://www.w3.org/2000/01/rdf-schema#domain\n",
      "PRED: http://www.w3.org/2000/01/rdf-schema#range\n",
      "PRED: http://www.w3.org/2000/01/rdf-schema#domain\n",
      "PRED: http://www.w3.org/2000/01/rdf-schema#domain\n",
      "PRED: http://www.w3.org/2000/01/rdf-schema#domain\n",
      "PRED: http://www.w3.org/2000/01/rdf-schema#domain\n",
      "PRED: http://www.w3.org/2000/01/rdf-schema#domain\n"
     ]
    }
   ],
   "source": [
    "for pred in g.predicates(object=rail_Station):\n",
    "    print('PRED:', pred)"
   ],
   "metadata": {
    "collapsed": false
   }
  },
  {
   "cell_type": "markdown",
   "source": [
    "### Apply it to rail.ttl"
   ],
   "metadata": {
    "collapsed": false
   }
  },
  {
   "cell_type": "code",
   "execution_count": 27,
   "outputs": [],
   "source": [
    "# ?curi rdf:type owl:Class\n",
    "\n",
    "#?prop rdfs:domain ?curi ;\n",
    "        # a owl:DatatypeProperty ;\n",
    "        # rdfs:range ?range .\n",
    "\n",
    "\n",
    "# nodes_and_their_properties = list()\n",
    "\n",
    "# nodes = list()\n",
    "# for sub1 in g.subjects(predicate=RDF.type, object=OWL.Class):\n",
    "#     nodes.append(sub1)\n",
    "\n",
    "\n",
    "# for dataprop in g.subjects(predicate=RDF.type, object=OWL.DatatypeProperty):\n",
    "#     print('dataprop:', dataprop)\n",
    "#     pass\n",
    "#\n",
    "# for datafrom in g.subjects(predicate=RDFS.domain, object=nodes[0]):\n",
    "#     pass\n",
    "#\n",
    "#\n",
    "# for datato in g.subjects(predicate=RDFS.range):\n",
    "#     pass\n",
    "#         # print(sub1.__class__.__dict__)\n"
   ],
   "metadata": {
    "collapsed": false
   }
  },
  {
   "cell_type": "code",
   "execution_count": 35,
   "outputs": [
    {
     "name": "stdout",
     "output_type": "stream",
     "text": [
      "key: http://onto.neo4j.com/rail#long\n",
      "items: [rdflib.term.URIRef('http://onto.neo4j.com/rail#long'), rdflib.term.URIRef('http://www.w3.org/2000/01/rdf-schema#domain'), rdflib.term.URIRef('http://onto.neo4j.com/rail#Station')]\n",
      "items: [rdflib.term.URIRef('http://onto.neo4j.com/rail#long'), rdflib.term.URIRef('http://www.w3.org/1999/02/22-rdf-syntax-ns#type'), rdflib.term.URIRef('http://www.w3.org/2002/07/owl#DatatypeProperty')]\n",
      "items: [rdflib.term.URIRef('http://onto.neo4j.com/rail#long'), rdflib.term.URIRef('http://www.w3.org/2000/01/rdf-schema#range'), rdflib.term.URIRef('http://www.w3.org/2001/XMLSchema#float')]\n",
      "--------------------\n",
      "key: http://onto.neo4j.com/rail#stationName\n",
      "items: [rdflib.term.URIRef('http://onto.neo4j.com/rail#stationName'), rdflib.term.URIRef('http://www.w3.org/2000/01/rdf-schema#domain'), rdflib.term.URIRef('http://onto.neo4j.com/rail#Station')]\n",
      "items: [rdflib.term.URIRef('http://onto.neo4j.com/rail#stationName'), rdflib.term.URIRef('http://www.w3.org/1999/02/22-rdf-syntax-ns#type'), rdflib.term.URIRef('http://www.w3.org/2002/07/owl#DatatypeProperty')]\n",
      "items: [rdflib.term.URIRef('http://onto.neo4j.com/rail#stationName'), rdflib.term.URIRef('http://www.w3.org/2000/01/rdf-schema#range'), rdflib.term.URIRef('http://www.w3.org/2001/XMLSchema#string')]\n",
      "--------------------\n",
      "key: http://onto.neo4j.com/rail#\n",
      "items: [rdflib.term.URIRef('http://onto.neo4j.com/rail#'), rdflib.term.URIRef('http://www.w3.org/1999/02/22-rdf-syntax-ns#type'), rdflib.term.URIRef('http://www.w3.org/2002/07/owl#Ontology')]\n",
      "--------------------\n",
      "key: http://onto.neo4j.com/rail#Event\n",
      "items: [rdflib.term.URIRef('http://onto.neo4j.com/rail#Event'), rdflib.term.URIRef('http://www.w3.org/1999/02/22-rdf-syntax-ns#type'), rdflib.term.URIRef('http://www.w3.org/2002/07/owl#Class')]\n",
      "--------------------\n",
      "key: http://onto.neo4j.com/rail#lat\n",
      "items: [rdflib.term.URIRef('http://onto.neo4j.com/rail#lat'), rdflib.term.URIRef('http://www.w3.org/2000/01/rdf-schema#range'), rdflib.term.URIRef('http://www.w3.org/2001/XMLSchema#float')]\n",
      "items: [rdflib.term.URIRef('http://onto.neo4j.com/rail#lat'), rdflib.term.URIRef('http://www.w3.org/2000/01/rdf-schema#domain'), rdflib.term.URIRef('http://onto.neo4j.com/rail#Station')]\n",
      "items: [rdflib.term.URIRef('http://onto.neo4j.com/rail#lat'), rdflib.term.URIRef('http://www.w3.org/1999/02/22-rdf-syntax-ns#type'), rdflib.term.URIRef('http://www.w3.org/2002/07/owl#DatatypeProperty')]\n",
      "--------------------\n",
      "key: http://onto.neo4j.com/rail#eventType\n",
      "items: [rdflib.term.URIRef('http://onto.neo4j.com/rail#eventType'), rdflib.term.URIRef('http://www.w3.org/2000/01/rdf-schema#range'), rdflib.term.URIRef('http://www.w3.org/2001/XMLSchema#string')]\n",
      "items: [rdflib.term.URIRef('http://onto.neo4j.com/rail#eventType'), rdflib.term.URIRef('http://www.w3.org/1999/02/22-rdf-syntax-ns#type'), rdflib.term.URIRef('http://www.w3.org/2002/07/owl#DatatypeProperty')]\n",
      "items: [rdflib.term.URIRef('http://onto.neo4j.com/rail#eventType'), rdflib.term.URIRef('http://www.w3.org/2000/01/rdf-schema#domain'), rdflib.term.URIRef('http://onto.neo4j.com/rail#Event')]\n",
      "--------------------\n",
      "key: http://onto.neo4j.com/rail#stationCode\n",
      "items: [rdflib.term.URIRef('http://onto.neo4j.com/rail#stationCode'), rdflib.term.URIRef('http://www.w3.org/2000/01/rdf-schema#domain'), rdflib.term.URIRef('http://onto.neo4j.com/rail#Station')]\n",
      "items: [rdflib.term.URIRef('http://onto.neo4j.com/rail#stationCode'), rdflib.term.URIRef('http://www.w3.org/1999/02/22-rdf-syntax-ns#type'), rdflib.term.URIRef('http://www.w3.org/2002/07/owl#DatatypeProperty')]\n",
      "items: [rdflib.term.URIRef('http://onto.neo4j.com/rail#stationCode'), rdflib.term.URIRef('http://www.w3.org/2000/01/rdf-schema#range'), rdflib.term.URIRef('http://www.w3.org/2001/XMLSchema#string')]\n",
      "--------------------\n",
      "key: http://onto.neo4j.com/rail#eventId\n",
      "items: [rdflib.term.URIRef('http://onto.neo4j.com/rail#eventId'), rdflib.term.URIRef('http://www.w3.org/2000/01/rdf-schema#domain'), rdflib.term.URIRef('http://onto.neo4j.com/rail#Event')]\n",
      "items: [rdflib.term.URIRef('http://onto.neo4j.com/rail#eventId'), rdflib.term.URIRef('http://www.w3.org/1999/02/22-rdf-syntax-ns#type'), rdflib.term.URIRef('http://www.w3.org/2002/07/owl#DatatypeProperty')]\n",
      "items: [rdflib.term.URIRef('http://onto.neo4j.com/rail#eventId'), rdflib.term.URIRef('http://www.w3.org/2000/01/rdf-schema#range'), rdflib.term.URIRef('http://www.w3.org/2001/XMLSchema#string')]\n",
      "--------------------\n",
      "key: http://onto.neo4j.com/rail#stationAddress\n",
      "items: [rdflib.term.URIRef('http://onto.neo4j.com/rail#stationAddress'), rdflib.term.URIRef('http://www.w3.org/1999/02/22-rdf-syntax-ns#type'), rdflib.term.URIRef('http://www.w3.org/2002/07/owl#DatatypeProperty')]\n",
      "items: [rdflib.term.URIRef('http://onto.neo4j.com/rail#stationAddress'), rdflib.term.URIRef('http://www.w3.org/2000/01/rdf-schema#range'), rdflib.term.URIRef('http://www.w3.org/2001/XMLSchema#string')]\n",
      "items: [rdflib.term.URIRef('http://onto.neo4j.com/rail#stationAddress'), rdflib.term.URIRef('http://www.w3.org/2000/01/rdf-schema#domain'), rdflib.term.URIRef('http://onto.neo4j.com/rail#Station')]\n",
      "--------------------\n",
      "key: http://onto.neo4j.com/rail#timestamp\n",
      "items: [rdflib.term.URIRef('http://onto.neo4j.com/rail#timestamp'), rdflib.term.URIRef('http://www.w3.org/2000/01/rdf-schema#domain'), rdflib.term.URIRef('http://onto.neo4j.com/rail#Event')]\n",
      "items: [rdflib.term.URIRef('http://onto.neo4j.com/rail#timestamp'), rdflib.term.URIRef('http://www.w3.org/1999/02/22-rdf-syntax-ns#type'), rdflib.term.URIRef('http://www.w3.org/2002/07/owl#DatatypeProperty')]\n",
      "--------------------\n",
      "key: http://onto.neo4j.com/rail#link\n",
      "items: [rdflib.term.URIRef('http://onto.neo4j.com/rail#link'), rdflib.term.URIRef('http://www.w3.org/1999/02/22-rdf-syntax-ns#type'), rdflib.term.URIRef('http://www.w3.org/2002/07/owl#ObjectProperty')]\n",
      "items: [rdflib.term.URIRef('http://onto.neo4j.com/rail#link'), rdflib.term.URIRef('http://www.w3.org/2000/01/rdf-schema#range'), rdflib.term.URIRef('http://onto.neo4j.com/rail#Station')]\n",
      "items: [rdflib.term.URIRef('http://onto.neo4j.com/rail#link'), rdflib.term.URIRef('http://www.w3.org/2000/01/rdf-schema#domain'), rdflib.term.URIRef('http://onto.neo4j.com/rail#Station')]\n",
      "--------------------\n",
      "key: http://onto.neo4j.com/rail#affects\n",
      "items: [rdflib.term.URIRef('http://onto.neo4j.com/rail#affects'), rdflib.term.URIRef('http://www.w3.org/2000/01/rdf-schema#range'), rdflib.term.URIRef('http://onto.neo4j.com/rail#Station')]\n",
      "items: [rdflib.term.URIRef('http://onto.neo4j.com/rail#affects'), rdflib.term.URIRef('http://www.w3.org/2000/01/rdf-schema#domain'), rdflib.term.URIRef('http://onto.neo4j.com/rail#Event')]\n",
      "items: [rdflib.term.URIRef('http://onto.neo4j.com/rail#affects'), rdflib.term.URIRef('http://www.w3.org/1999/02/22-rdf-syntax-ns#type'), rdflib.term.URIRef('http://www.w3.org/2002/07/owl#ObjectProperty')]\n",
      "--------------------\n",
      "key: http://onto.neo4j.com/rail#eventDescription\n",
      "items: [rdflib.term.URIRef('http://onto.neo4j.com/rail#eventDescription'), rdflib.term.URIRef('http://www.w3.org/1999/02/22-rdf-syntax-ns#type'), rdflib.term.URIRef('http://www.w3.org/2002/07/owl#DatatypeProperty')]\n",
      "items: [rdflib.term.URIRef('http://onto.neo4j.com/rail#eventDescription'), rdflib.term.URIRef('http://www.w3.org/2000/01/rdf-schema#range'), rdflib.term.URIRef('http://www.w3.org/2001/XMLSchema#string')]\n",
      "items: [rdflib.term.URIRef('http://onto.neo4j.com/rail#eventDescription'), rdflib.term.URIRef('http://www.w3.org/2000/01/rdf-schema#domain'), rdflib.term.URIRef('http://onto.neo4j.com/rail#Event')]\n",
      "--------------------\n",
      "key: http://onto.neo4j.com/rail#Station\n",
      "items: [rdflib.term.URIRef('http://onto.neo4j.com/rail#Station'), rdflib.term.URIRef('http://www.w3.org/1999/02/22-rdf-syntax-ns#type'), rdflib.term.URIRef('http://www.w3.org/2002/07/owl#Class')]\n",
      "--------------------\n"
     ]
    }
   ],
   "source": [
    "# Loop through each triple in the graph (subj, pred, obj)\n",
    "triples = dict()\n",
    "for sub, pred, obj in g:\n",
    "    if sub not in triples:\n",
    "        triples[sub] = list()\n",
    "    triples[sub].append([sub,pred,obj])\n",
    "\n",
    "\n",
    "for key, triple in triples.items():\n",
    "    print(f'key: {key}')\n",
    "    for item in triple:\n",
    "        print(f'items: {item}')\n",
    "    print('--------------------')\n",
    "\n",
    "\n",
    "\n",
    "# triples_dict = {}\n",
    "# for triple in triples:\n",
    "#     triples[]\n",
    "\n",
    "\n",
    "\n"
   ],
   "metadata": {
    "collapsed": false
   }
  }
 ]
}
