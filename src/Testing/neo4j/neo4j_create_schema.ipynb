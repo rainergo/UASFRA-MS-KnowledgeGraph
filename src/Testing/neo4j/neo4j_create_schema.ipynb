{
 "cells": [
  {
   "cell_type": "markdown",
   "source": [
    "### Medium Article:\n",
    "[Documents are Property Graph](https://medium.com/@yu-joshua/documents-are-property-graph-76b1b199632d)"
   ],
   "metadata": {
    "collapsed": false
   },
   "id": "d29a803c798a61ab"
  },
  {
   "cell_type": "code",
   "execution_count": 1,
   "outputs": [
    {
     "data": {
      "text/plain": "True"
     },
     "execution_count": 1,
     "metadata": {},
     "output_type": "execute_result"
    }
   ],
   "source": [
    "from neo4j import GraphDatabase, RoutingControl\n",
    "from dotenv import load_dotenv\n",
    "import os\n",
    "import pathlib\n",
    "\n",
    "from settings import path_base\n",
    "path_to_secrets = pathlib.Path(path_base, 'secrets.env')\n",
    "load_dotenv(dotenv_path=path_to_secrets)  # Load secrets/env variables"
   ],
   "metadata": {
    "collapsed": false,
    "ExecuteTime": {
     "end_time": "2023-11-13T11:20:22.620932700Z",
     "start_time": "2023-11-13T11:20:17.556407700Z"
    }
   },
   "id": "initial_id"
  },
  {
   "cell_type": "markdown",
   "source": [
    "##### Connect to the database:"
   ],
   "metadata": {
    "collapsed": false
   },
   "id": "6847511cf42dfffc"
  },
  {
   "cell_type": "code",
   "execution_count": 2,
   "outputs": [],
   "source": [
    "URI = \"neo4j://localhost:7687\"\n",
    "AUTH = (\"neo4j\", os.getenv('NEO4J_PW'))\n",
    "driver = GraphDatabase.driver(URI, auth=AUTH)"
   ],
   "metadata": {
    "collapsed": false,
    "ExecuteTime": {
     "end_time": "2023-11-13T11:20:28.677074500Z",
     "start_time": "2023-11-13T11:20:28.656415900Z"
    }
   },
   "id": "8e3e9a347f4f706a"
  },
  {
   "cell_type": "markdown",
   "source": [
    "##### Generate Ontology (without data)"
   ],
   "metadata": {
    "collapsed": false
   },
   "id": "51e7ce805a3c81d9"
  },
  {
   "cell_type": "code",
   "execution_count": 3,
   "outputs": [],
   "source": [
    "q_schema = \"\"\"// -----------------------------\n",
    "// 1. Create nodes \n",
    "//   1.1 Create Document node\n",
    "CREATE (d:Document{url:'https://arxiv.org/abs/2305.14449'})\n",
    "//   1.2 Create Subject Node\n",
    "CREATE (s:Subject{text:'Graph Meets LLM: A Novel Approach to Collaborative Filtering for Robust Conversational Understanding'})\n",
    "//   1.3 Create Author nodes (for the first 3)\n",
    "CREATE (author1:Author{fullname:'Zheng Chen', email:'zgchen@amazon.com'})\n",
    "CREATE (author2:Author{fullname:'Ziyan Jiang', email:'ziyjiang@amazon.com'})\n",
    "CREATE (author3:Author{fullname:'Fan Yang', email:'ffanyang@amazon.com'})\n",
    "//   1.4 Create Abstract node\n",
    "CREATE (abstract:Abstract)\n",
    "//   1.5 Create Keyword node\n",
    "CREATE (kw1:Keyword{text:'Collaborative Filtering'})\n",
    "CREATE (kw2:Keyword{text:'Large Language Models'})\n",
    "CREATE (kw3:Keyword{text:'Query Rewriting'})\n",
    "// -----------------------------\n",
    "// 2. Connect nodes\n",
    "CREATE (d) -[:HAS_SUBJECT]-> (s)\n",
    "CREATE (d) -[:HAS_AUTHOR]-> (author1)\n",
    "CREATE (d) -[:HAS_AUTHOR]-> (author2)\n",
    "CREATE (d) -[:HAS_AUTHOR]-> (author3)\n",
    "CREATE (d) -[:HAS_ABSTRACT]-> (abstract)\n",
    "CREATE (d) -[:HAS_KEYWORD]-> (kw1)\n",
    "CREATE (d) -[:HAS_KEYWORD]-> (kw2)\n",
    "CREATE (d) -[:HAS_KEYWORD]-> (kw3)\n",
    "RETURN *\n",
    "// DONE\"\"\"\n"
   ],
   "metadata": {
    "collapsed": false,
    "ExecuteTime": {
     "end_time": "2023-11-13T11:20:32.279234700Z",
     "start_time": "2023-11-13T11:20:32.251606700Z"
    }
   },
   "id": "d2450448cca7e3d5"
  },
  {
   "cell_type": "code",
   "execution_count": 4,
   "outputs": [
    {
     "data": {
      "text/plain": "EagerResult(records=[<Record abstract=<Node element_id='4:60b5391f-e913-4211-a55f-a0fb8138e746:5193' labels=frozenset({'Abstract'}) properties={}> author1=<Node element_id='4:60b5391f-e913-4211-a55f-a0fb8138e746:5190' labels=frozenset({'Author'}) properties={'fullname': 'Zheng Chen', 'email': 'zgchen@amazon.com'}> author2=<Node element_id='4:60b5391f-e913-4211-a55f-a0fb8138e746:5191' labels=frozenset({'Author'}) properties={'fullname': 'Ziyan Jiang', 'email': 'ziyjiang@amazon.com'}> author3=<Node element_id='4:60b5391f-e913-4211-a55f-a0fb8138e746:5192' labels=frozenset({'Author'}) properties={'fullname': 'Fan Yang', 'email': 'ffanyang@amazon.com'}> d=<Node element_id='4:60b5391f-e913-4211-a55f-a0fb8138e746:5188' labels=frozenset({'Document'}) properties={'url': 'https://arxiv.org/abs/2305.14449'}> kw1=<Node element_id='4:60b5391f-e913-4211-a55f-a0fb8138e746:5194' labels=frozenset({'Keyword'}) properties={'text': 'Collaborative Filtering'}> kw2=<Node element_id='4:60b5391f-e913-4211-a55f-a0fb8138e746:5195' labels=frozenset({'Keyword'}) properties={'text': 'Large Language Models'}> kw3=<Node element_id='4:60b5391f-e913-4211-a55f-a0fb8138e746:5196' labels=frozenset({'Keyword'}) properties={'text': 'Query Rewriting'}> s=<Node element_id='4:60b5391f-e913-4211-a55f-a0fb8138e746:5189' labels=frozenset({'Subject'}) properties={'text': 'Graph Meets LLM: A Novel Approach to Collaborative Filtering for Robust Conversational Understanding'}>>], summary=<neo4j._work.summary.ResultSummary object at 0x0000021438096D90>, keys=['abstract', 'author1', 'author2', 'author3', 'd', 'kw1', 'kw2', 'kw3', 's'])"
     },
     "execution_count": 4,
     "metadata": {},
     "output_type": "execute_result"
    }
   ],
   "source": [
    "driver.execute_query(query_=q_schema, database_=\"neo4j\")"
   ],
   "metadata": {
    "collapsed": false,
    "ExecuteTime": {
     "end_time": "2023-11-13T11:20:39.712814700Z",
     "start_time": "2023-11-13T11:20:34.257658200Z"
    }
   },
   "id": "967a430d906377ba"
  },
  {
   "cell_type": "markdown",
   "source": [
    "##### Insert data into the Ontology/Schema of the Graph"
   ],
   "metadata": {
    "collapsed": false
   },
   "id": "a87746ee667c1944"
  },
  {
   "cell_type": "code",
   "execution_count": 5,
   "outputs": [],
   "source": [
    "q_data = \"\"\"// -----------------------------\n",
    "// 1. Create nodes \n",
    "//   1.1 Create Document node\n",
    "CREATE (d:Document{url:'https://arxiv.org/abs/2305.14449'})\n",
    "//   1.2 Create Subject Node\n",
    "CREATE (s:Subject{text:'Graph Meets LLM: A Novel Approach to Collaborative Filtering for Robust Conversational Understanding'})\n",
    "//   1.3 Create Author nodes (for the first 3)\n",
    "CREATE (author1:Author{fullname:'Zheng Chen', email:'zgchen@amazon.com'})\n",
    "CREATE (author2:Author{fullname:'Ziyan Jiang', email:'ziyjiang@amazon.com'})\n",
    "CREATE (author3:Author{fullname:'Fan Yang', email:'ffanyang@amazon.com'})\n",
    "//   1.4 Create Abstract node\n",
    "CREATE (abstract:Abstract)\n",
    "//   1.5 Create Keyword node\n",
    "CREATE (kw1:Keyword{text:'Collaborative Filtering'})\n",
    "CREATE (kw2:Keyword{text:'Large Language Models'})\n",
    "CREATE (kw3:Keyword{text:'Query Rewriting'})\n",
    "// -----------------------------\n",
    "// 2. Connect nodes\n",
    "CREATE (d) -[:HAS_SUBJECT]-> (s)\n",
    "CREATE (d) -[:HAS_AUTHOR]-> (author1)\n",
    "CREATE (d) -[:HAS_AUTHOR]-> (author2)\n",
    "CREATE (d) -[:HAS_AUTHOR]-> (author3)\n",
    "CREATE (d) -[:HAS_ABSTRACT]-> (abstract)\n",
    "CREATE (d) -[:HAS_KEYWORD]-> (kw1)\n",
    "CREATE (d) -[:HAS_KEYWORD]-> (kw2)\n",
    "CREATE (d) -[:HAS_KEYWORD]-> (kw3)\n",
    "RETURN *\n",
    "// DONE\"\"\""
   ],
   "metadata": {
    "collapsed": false,
    "ExecuteTime": {
     "end_time": "2023-11-13T11:31:36.663272100Z",
     "start_time": "2023-11-13T11:31:36.631549Z"
    }
   },
   "id": "b779779af1752740"
  },
  {
   "cell_type": "code",
   "execution_count": 6,
   "outputs": [
    {
     "data": {
      "text/plain": "EagerResult(records=[<Record abstract=<Node element_id='4:60b5391f-e913-4211-a55f-a0fb8138e746:5' labels=frozenset({'Abstract'}) properties={}> author1=<Node element_id='4:60b5391f-e913-4211-a55f-a0fb8138e746:2' labels=frozenset({'Author'}) properties={'fullname': 'Zheng Chen', 'email': 'zgchen@amazon.com'}> author2=<Node element_id='4:60b5391f-e913-4211-a55f-a0fb8138e746:3' labels=frozenset({'Author'}) properties={'fullname': 'Ziyan Jiang', 'email': 'ziyjiang@amazon.com'}> author3=<Node element_id='4:60b5391f-e913-4211-a55f-a0fb8138e746:4' labels=frozenset({'Author'}) properties={'fullname': 'Fan Yang', 'email': 'ffanyang@amazon.com'}> d=<Node element_id='4:60b5391f-e913-4211-a55f-a0fb8138e746:0' labels=frozenset({'Document'}) properties={'url': 'https://arxiv.org/abs/2305.14449'}> kw1=<Node element_id='4:60b5391f-e913-4211-a55f-a0fb8138e746:6' labels=frozenset({'Keyword'}) properties={'text': 'Collaborative Filtering'}> kw2=<Node element_id='4:60b5391f-e913-4211-a55f-a0fb8138e746:7' labels=frozenset({'Keyword'}) properties={'text': 'Large Language Models'}> kw3=<Node element_id='4:60b5391f-e913-4211-a55f-a0fb8138e746:8' labels=frozenset({'Keyword'}) properties={'text': 'Query Rewriting'}> s=<Node element_id='4:60b5391f-e913-4211-a55f-a0fb8138e746:1' labels=frozenset({'Subject'}) properties={'text': 'Graph Meets LLM: A Novel Approach to Collaborative Filtering for Robust Conversational Understanding'}>>], summary=<neo4j._work.summary.ResultSummary object at 0x000002143803E990>, keys=['abstract', 'author1', 'author2', 'author3', 'd', 'kw1', 'kw2', 'kw3', 's'])"
     },
     "execution_count": 6,
     "metadata": {},
     "output_type": "execute_result"
    }
   ],
   "source": [
    "driver.execute_query(query_=q_data, database_=\"neo4j\")"
   ],
   "metadata": {
    "collapsed": false,
    "ExecuteTime": {
     "end_time": "2023-11-13T11:31:41.736682700Z",
     "start_time": "2023-11-13T11:31:39.538759700Z"
    }
   },
   "id": "579b6733375bda10"
  },
  {
   "cell_type": "code",
   "execution_count": null,
   "outputs": [],
   "source": [],
   "metadata": {
    "collapsed": false
   },
   "id": "3332a2e893a00038"
  }
 ],
 "metadata": {
  "kernelspec": {
   "display_name": "Python 3",
   "language": "python",
   "name": "python3"
  },
  "language_info": {
   "codemirror_mode": {
    "name": "ipython",
    "version": 2
   },
   "file_extension": ".py",
   "mimetype": "text/x-python",
   "name": "python",
   "nbconvert_exporter": "python",
   "pygments_lexer": "ipython2",
   "version": "2.7.6"
  }
 },
 "nbformat": 4,
 "nbformat_minor": 5
}
